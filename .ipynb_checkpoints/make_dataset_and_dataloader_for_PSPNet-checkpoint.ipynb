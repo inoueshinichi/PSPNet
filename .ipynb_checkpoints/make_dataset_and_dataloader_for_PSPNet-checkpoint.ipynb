{
 "cells": [
  {
   "cell_type": "markdown",
   "metadata": {},
   "source": [
    "### PSPNet用のDatasetを作成"
   ]
  },
  {
   "cell_type": "markdown",
   "metadata": {},
   "source": [
    "前処理クラス"
   ]
  },
  {
   "cell_type": "code",
   "execution_count": 1,
   "metadata": {},
   "outputs": [],
   "source": [
    "from data_argmentation_for_PSPNet import (\n",
    "    Compose,\n",
    "    Scale,\n",
    "    RandomRotation,\n",
    "    RandomMirror,\n",
    "    Resize,\n",
    "    Normalize_Tensor\n",
    ")"
   ]
  },
  {
   "cell_type": "code",
   "execution_count": 2,
   "metadata": {},
   "outputs": [],
   "source": [
    "class DataTransform():\n",
    "    \"\"\"\n",
    "    画像とアノテーションの前処理クラス.訓練時と検証時で異なる動作をする.\n",
    "    画像サイズ(input_size, input_size)にする.\n",
    "    訓練時は水増しを行う.\n",
    "    \n",
    "    Attributes\n",
    "    ----------\n",
    "    input_size : int リサイズ先の大きさ.\n",
    "    color_mean : (R,G,B) チャネルの平均値\n",
    "    color_std  : (R,G,B) チャネルの標準偏差\n",
    "    \"\"\"\n",
    "    def __init__(self, input_size, color_mean, color_std):\n",
    "        self.data_transform = {\n",
    "            'train': Compose([\n",
    "                Scale(scale=[0.5,1.5]),\n",
    "                RandomRotation(angle=[-10,10]),\n",
    "                RandomMirror(),\n",
    "                Resize(input_size),\n",
    "                Normalize_Tensor(color_mean, color_std)\n",
    "            ]),\n",
    "            'val': Compose([\n",
    "                Resize(input_size),\n",
    "                Normalize_Tensor(color_mean, color_std)\n",
    "            ])\n",
    "        }\n",
    "        \n",
    "    def __call__(self, phase, img, anno_class_img):\n",
    "        return self.data_transform[phase](img, anno_class_img)"
   ]
  },
  {
   "cell_type": "markdown",
   "metadata": {},
   "source": [
    "### VOCDataset"
   ]
  },
  {
   "cell_type": "code",
   "execution_count": 3,
   "metadata": {},
   "outputs": [],
   "source": [
    "from torch.utils.data import Dataset\n",
    "from PIL import Image"
   ]
  },
  {
   "cell_type": "code",
   "execution_count": 4,
   "metadata": {},
   "outputs": [],
   "source": [
    "class VOCDataset(Dataset):\n",
    "    \"\"\"\n",
    "    VOC2012のDatasetを作成するクラス.PytorchのDatasetクラスを継承\n",
    "    \n",
    "    Attributes\n",
    "    ----------\n",
    "    img_list : list 画像のパスを格納したリスト\n",
    "    anno_list : list アノテーションへのパスを格納したリスト\n",
    "    phase : 'train' or 'val'\n",
    "    transform : object 前処理クラス\n",
    "    \"\"\"\n",
    "    \n",
    "    def __init__(self, img_list, anno_list, phase, transform):\n",
    "        self.img_list = img_list\n",
    "        self.anno_list = anno_list\n",
    "        self.phase = phase\n",
    "        self.transform = transform\n",
    "        \n",
    "    def __len__(self):\n",
    "        return len(self.img_list)\n",
    "    \n",
    "    def __getitem__(self, index):\n",
    "        img, anno_class = self.pull_item(index)\n",
    "        \n",
    "    def pull_item(self, index):\n",
    "        \"\"\"\n",
    "        画像のTensor形式データ、アノテーションを取得\n",
    "        \"\"\"\n",
    "        image_file_path = self.img_list[index]\n",
    "        img = Image.open(image_file_path) # (RGB)\n",
    "        \n",
    "        anno_file_path = self.anno_list[index]\n",
    "        anno_class_img = Image.open(anno_file_path) #[h][w][カラーパレット番号]\n",
    "        \n",
    "        img, anno_class_img = self.transform(self.phase, img, anno_class_img)\n",
    "        \n",
    "        return img, anno_class_img"
   ]
  },
  {
   "cell_type": "code",
   "execution_count": 5,
   "metadata": {},
   "outputs": [],
   "source": [
    "from datapath_for_PSPNet import make_datapath_list"
   ]
  },
  {
   "cell_type": "code",
   "execution_count": 8,
   "metadata": {},
   "outputs": [
    {
     "name": "stdout",
     "output_type": "stream",
     "text": [
      "None\n"
     ]
    }
   ],
   "source": [
    "# 動作確認\n",
    "\n",
    "color_mean = (0.485, 0.456, 0.406)\n",
    "color_std = (0.229, 0.224, 0.225)\n",
    "\n",
    "rootpath = \"../data/VOCdevkit/VOC2012/\"\n",
    "\n",
    "train_img_list, train_anno_list, val_img_list, val_anno_list \\\n",
    "= make_datapath_list(rootpath=rootpath)\n",
    "\n",
    "print(f\"train_img_list: {train_img_list}\")\n",
    "\n",
    "# dataset\n",
    "train_transform = DataTransform(input_size=475, \n",
    "                                color_mean=color_mean, \n",
    "                                color_std=color_std)\n",
    "train_dataset = VOCDataset(train_img_list, train_anno_list, \n",
    "                           phase='train', transform=train_transform)\n",
    "\n",
    "\n",
    "val_transform = DataTransform(input_size=475,\n",
    "                              color_mean=color_mean, \n",
    "                              color_std=color_std)\n",
    "val_dataset = VOCDataset(val_img_list, val_anno_list, \n",
    "                         phase='val', transform=val_transform)\n",
    "\n",
    "# データの取り出し\n",
    "# print(val_dataset.__getitem__(0)[0].shape)\n",
    "# print(val_dataset.__getitem__(0)[1].shape)\n",
    "print(val_dataset.__getitem__(0))\n"
   ]
  },
  {
   "cell_type": "code",
   "execution_count": null,
   "metadata": {},
   "outputs": [],
   "source": []
  },
  {
   "cell_type": "code",
   "execution_count": null,
   "metadata": {},
   "outputs": [],
   "source": []
  }
 ],
 "metadata": {
  "kernelspec": {
   "display_name": "Python 3",
   "language": "python",
   "name": "python3"
  },
  "language_info": {
   "codemirror_mode": {
    "name": "ipython",
    "version": 3
   },
   "file_extension": ".py",
   "mimetype": "text/x-python",
   "name": "python",
   "nbconvert_exporter": "python",
   "pygments_lexer": "ipython3",
   "version": "3.6.9"
  }
 },
 "nbformat": 4,
 "nbformat_minor": 2
}
