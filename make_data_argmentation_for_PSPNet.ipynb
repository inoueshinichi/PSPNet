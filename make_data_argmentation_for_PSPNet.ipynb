{
 "cells": [
  {
   "cell_type": "markdown",
   "metadata": {},
   "source": [
    "### セマンティックセグメンテーション用の水増し"
   ]
  },
  {
   "cell_type": "code",
   "execution_count": 1,
   "metadata": {},
   "outputs": [],
   "source": [
    "import torch\n",
    "from torchvision import transforms\n",
    "from PIL import Image, ImageOps, ImageFilter\n",
    "import numpy as np"
   ]
  },
  {
   "cell_type": "markdown",
   "metadata": {},
   "source": [
    "torchvisionのTransformsオブジェクトを用いて水増しするインターフェースクラス\n",
    "注意) アノテーション画像はカラーパレット形式(index_color画像)."
   ]
  },
  {
   "cell_type": "code",
   "execution_count": 1,
   "metadata": {},
   "outputs": [],
   "source": [
    "class Compose(object):\n",
    "    \"\"\"\n",
    "    引数transformsに格納された変形を順番に実行するクラス\n",
    "    対象画像とアノテーション画像を同時に変換する\n",
    "    \"\"\"\n",
    "    def __init__(self, transforms):\n",
    "        self.transforms = transforms\n",
    "        \n",
    "    def __call__(self, img, anno_class_img):\n",
    "        for t in self.transforms:\n",
    "            img, anno_class_img = t(img, anno_class_img)\n",
    "        return img, anno_class_img"
   ]
  },
  {
   "cell_type": "markdown",
   "metadata": {},
   "source": [
    "画像のスケールを変換する"
   ]
  },
  {
   "cell_type": "code",
   "execution_count": 4,
   "metadata": {},
   "outputs": [],
   "source": [
    "class Scale(object):\n",
    "    def __init__(self, scale):\n",
    "        self.scale = scale # [min_ratio, max_ratio]\n",
    "        \n",
    "    def __call__(self, img, snno_class_img):\n",
    "        \n",
    "        # pil_img.size = [幅][高さ]\n",
    "        width = img.size[0] \n",
    "        height = img.size[1]\n",
    "        \n",
    "        # 拡大倍率をランダムに設定\n",
    "        scale = np.random.uniform(self.scale[0], self.scale[1])\n",
    "        \n",
    "        scaled_w = int(width * scale)\n",
    "        scaled_h = int(height * scale)\n",
    "        \n",
    "        # 画像のりサイズ\n",
    "        img = img.resize((scaled_w, scaled_h), \\\n",
    "                         Image.BICUBIC) # 双対二次補完\n",
    "        \n",
    "        # アノテーションサイズのりサイズ\n",
    "        anno_class_img = anno_class_img.resize((scaled_w, scaled_h), \\\n",
    "                                               Image.NEAREST) # 最近棒補完\n",
    "        \n",
    "        # 画像を元の大きさに切り出して位置を求める\n",
    "        if scale > 1.0:\n",
    "            # 左上\n",
    "            left = scaled_w - width\n",
    "            left = int(np.random.uniform(0, left))\n",
    "            top = scaled_h - height\n",
    "            top = int(np.random.uniform(0, top))\n",
    "            \n",
    "            # クロップ\n",
    "            img = img.crop((left, top, left+width, top+height))\n",
    "            anno_class_img = anno_class_img.crop(\n",
    "                            (left, top, left+width, top+height))\n",
    "            \n",
    "        else:\n",
    "            # input_sizeより短い辺はpaddingする\n",
    "            p_palette = anno_class_img.copy().getpalette()\n",
    "            \n",
    "            img_original = img.copy()\n",
    "            anno_class_img_original = anno_class_img.copy()\n",
    "            \n",
    "            # 左上\n",
    "            pad_width = width - scaled_w\n",
    "            pad_width_left = int(np.random.uniform(0, pad_width))\n",
    "            pad_height = height - scaled_h\n",
    "            pad_height_top = int(np.random.uniform(0, pad_height))\n",
    "            \n",
    "            # 黒画像を作成\n",
    "            img = Image.new(img.mode, (width, height), (0, 0, 0))\n",
    "            \n",
    "            # 埋め込み\n",
    "            img.paste(img_original, (pad_width_left, pad_height_top))\n",
    "            \n",
    "            # 黒画像作成 for カラーパレット形式\n",
    "            anno_class_img = Image.new(\n",
    "                                anno_class_img.mode, (width, height), (0))\n",
    "            \n",
    "            # 埋め込み\n",
    "            anno_class_img.paste(anno_class_img_original,\n",
    "                                (pad_width_left, pad_height_top))\n",
    "            \n",
    "            # カラーパレット情報のコピー\n",
    "            anno_class_img.putpalette(p_palette)\n",
    "            \n",
    "        return img, anno_class_img\n",
    "    "
   ]
  },
  {
   "cell_type": "markdown",
   "metadata": {},
   "source": [
    "ランダムに回転させる"
   ]
  },
  {
   "cell_type": "code",
   "execution_count": 5,
   "metadata": {},
   "outputs": [],
   "source": [
    "class RandomRotation(object):\n",
    "    def __init__(self, angle):\n",
    "        self.angle = angle # [min_deg, max_deg]\n",
    "        \n",
    "    def __call__(self, img, anno_class_img):\n",
    "        \n",
    "        # 回転角度を決める\n",
    "        rotate_angle = (np.random.uniform(self.angle[0], self.angle[1]))\n",
    "        \n",
    "        # 回転\n",
    "        img = img.rotate(rotate_angle, Image.BILINEAR) # 双対1次補完\n",
    "        anno_class_img = img.rotate(rotate_angle, Image.NEAREST) # 最近棒補完\n",
    "        \n",
    "        return img, anno_class_img"
   ]
  },
  {
   "cell_type": "markdown",
   "metadata": {},
   "source": [
    "50%の確率で左右にフリップ"
   ]
  },
  {
   "cell_type": "code",
   "execution_count": 6,
   "metadata": {},
   "outputs": [],
   "source": [
    "class RandomMirror(object):\n",
    "    \n",
    "    def __call__(self, img, anno_class_img):\n",
    "        if np.random.randint(2):\n",
    "            img = ImageOps.mirror(img)\n",
    "            anno_class_img = ImageOps.mirror(anno_class_img)\n",
    "            \n",
    "        return img, anno_class_img"
   ]
  },
  {
   "cell_type": "markdown",
   "metadata": {},
   "source": [
    "画像形状をリサイズする"
   ]
  },
  {
   "cell_type": "code",
   "execution_count": 7,
   "metadata": {},
   "outputs": [],
   "source": [
    "class Resize(object):\n",
    "    \"\"\"\n",
    "    引数input_sizeに大きさを変形するクラス\n",
    "    \"\"\"\n",
    "    def __init__(self, input_size):\n",
    "        self.input_size = input_size # width == height\n",
    "        \n",
    "    def __call__(self, img, class_class_img):\n",
    "        \n",
    "        img = img.resize((self.input_size, self.input_size),\n",
    "                         Imgae.BICUBIC) # 双対二次補完\n",
    "        anno_class_img = anno_class_img.resize(\n",
    "                            (self.input_size, self.input_size),\n",
    "                            Image.NEAREST) # 最近棒補完\n",
    "        \n",
    "        return img, anno_class_img"
   ]
  },
  {
   "cell_type": "markdown",
   "metadata": {},
   "source": [
    "0-255 -> 0-1 に正規化とtensorに変換"
   ]
  },
  {
   "cell_type": "code",
   "execution_count": 8,
   "metadata": {},
   "outputs": [],
   "source": [
    "class Normalize_Tensor(object):\n",
    "    \n",
    "    def __init__(self, color_mean, color_std):\n",
    "        self.color_mean = color_mean\n",
    "        self.color_std = color_std\n",
    "        \n",
    "    def __call__(self, img, anno_class_img):\n",
    "        \n",
    "        # PIL画像をtorch.Tensorに変換. 大きさを最大1に規格化すru\n",
    "        img = transforms.functional.to_tensor(img)\n",
    "        \n",
    "        # 色情報の標準化\n",
    "        img = transforms.functional.normalize(\n",
    "                img, self.color_mean, self.color_std)\n",
    "        \n",
    "        # アノテーション画像をNumpyに変換\n",
    "        anno_class_img = np.array(anno_class_img) # [高さ][幅]\n",
    "        \n",
    "        # 'ambigious'には255が格納されているので、0の背景にしておく\n",
    "        index = np.where(anno_class_img == 255)\n",
    "        anno_class_img[index] = 0\n",
    "        \n",
    "        # アノテーション画像をtorch.Tensorに変換\n",
    "        anno_class_img = torch.from_numpy(anno_class_img)\n",
    "        \n",
    "        return img, anno_class_img"
   ]
  },
  {
   "cell_type": "code",
   "execution_count": null,
   "metadata": {},
   "outputs": [],
   "source": []
  }
 ],
 "metadata": {
  "kernelspec": {
   "display_name": "Python 3",
   "language": "python",
   "name": "python3"
  },
  "language_info": {
   "codemirror_mode": {
    "name": "ipython",
    "version": 3
   },
   "file_extension": ".py",
   "mimetype": "text/x-python",
   "name": "python",
   "nbconvert_exporter": "python",
   "pygments_lexer": "ipython3",
   "version": "3.6.9"
  }
 },
 "nbformat": 4,
 "nbformat_minor": 2
}
